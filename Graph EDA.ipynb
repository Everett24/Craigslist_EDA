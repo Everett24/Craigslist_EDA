{
 "cells": [
  {
   "cell_type": "code",
   "execution_count": null,
   "id": "b341dff9",
   "metadata": {},
   "outputs": [],
   "source": [
    "#graph out while exploring\n",
    "\n",
    "#Whats being explored\n",
    "\n",
    "# Max|Mean|Median|Min Price per city\n",
    "# Count per City\n",
    "# Count Category per city\n",
    "# Avg time listed per city\n",
    "# Avg image count per category per city\n",
    "\n",
    "# Total count\n",
    "# Max|Mean|Median|Min Price\n",
    "# Count per Category\n",
    "# Min|Mean|Max Description length\n",
    "# Tags Count\n",
    "# avg time listed\n",
    "# Avg image countper category"
   ]
  }
 ],
 "metadata": {
  "kernelspec": {
   "display_name": "Python 3",
   "language": "python",
   "name": "python3"
  },
  "language_info": {
   "codemirror_mode": {
    "name": "ipython",
    "version": 3
   },
   "file_extension": ".py",
   "mimetype": "text/x-python",
   "name": "python",
   "nbconvert_exporter": "python",
   "pygments_lexer": "ipython3",
   "version": "3.8.10"
  }
 },
 "nbformat": 4,
 "nbformat_minor": 5
}
