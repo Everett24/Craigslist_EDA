{
 "cells": [
  {
   "cell_type": "code",
   "execution_count": 2,
   "id": "98609efa",
   "metadata": {},
   "outputs": [],
   "source": [
    "import numpy as np\n",
    "import pandas as pd\n",
    "import pyspark as ps            #Spark\n",
    "import psycopg2 as pg2          #Postgres\n",
    "from pymongo import MongoClient #MongoDB\n",
    "import matplotlib.pyplot as plt\n",
    "\n",
    "import scrapy"
   ]
  },
  {
   "cell_type": "code",
   "execution_count": null,
   "id": "a5c5340b",
   "metadata": {},
   "outputs": [],
   "source": [
    "#SCRAPE\n",
    "\n",
    "#https://www.craigslist.org/about/sites\n",
    "#body > h1 US\n",
    "# col mask box box1|2|3|4\n",
    "#li a href -> link\n",
    "\n",
    "#for sale class=sss\n",
    "#search results | rows\n",
    "#result row\n",
    "\n",
    "#page container\n",
    "#header -> breadcrumbs\n",
    "#postingtitletext\n",
    "#price\n",
    "#thumbs -> imgs\n",
    "#postingbody\n",
    "\n",
    "#postinginfo \n",
    "#date timeago\n",
    "#postinginfo -> post id\n",
    "\n",
    "#mapAndAttrs\n",
    "#attrGroup"
   ]
  }
 ],
 "metadata": {
  "kernelspec": {
   "display_name": "Python 3",
   "language": "python",
   "name": "python3"
  },
  "language_info": {
   "codemirror_mode": {
    "name": "ipython",
    "version": 3
   },
   "file_extension": ".py",
   "mimetype": "text/x-python",
   "name": "python",
   "nbconvert_exporter": "python",
   "pygments_lexer": "ipython3",
   "version": "3.8.10"
  }
 },
 "nbformat": 4,
 "nbformat_minor": 5
}
