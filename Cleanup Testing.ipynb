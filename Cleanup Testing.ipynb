{
 "cells": [
  {
   "cell_type": "code",
   "execution_count": 1,
   "id": "53042744",
   "metadata": {},
   "outputs": [],
   "source": [
    "# write functions to clean data entries / test progress of scrape"
   ]
  },
  {
   "cell_type": "code",
   "execution_count": 50,
   "id": "91dc8c31",
   "metadata": {},
   "outputs": [],
   "source": [
    "from pymongo import MongoClient #MongoDB\n",
    "client = MongoClient('localhost',27017)\n",
    "craigslist = client['craigslist']\n",
    "listings = craigslist['listings']"
   ]
  },
  {
   "cell_type": "code",
   "execution_count": 86,
   "id": "97400b14",
   "metadata": {},
   "outputs": [
    {
     "data": {
      "text/plain": [
       "59543"
      ]
     },
     "execution_count": 86,
     "metadata": {},
     "output_type": "execute_result"
    }
   ],
   "source": [
    "listings.estimated_document_count()\n"
   ]
  },
  {
   "cell_type": "code",
   "execution_count": 41,
   "id": "ebd0692c",
   "metadata": {},
   "outputs": [
    {
     "name": "stdout",
     "output_type": "stream",
     "text": [
      "[{'_id': ObjectId('60be91da5f2c8929d17d9061'),\n",
      "  'city': 'fort smith',\n",
      "  'des': ['\\n        ',\n",
      "          '\\n2008 YEAR MODEL ',\n",
      "          '\\nNO BAFFLES ',\n",
      "          '\\n1,000 GALLON TANK',\n",
      "          '\\n(2) 3500LB AXLES',\n",
      "          '\\n110V PUMP COMES WITH IT ',\n",
      "          '\\nWORKS AS IT SHOULD ',\n",
      "          '\\nNO ISSUES ',\n",
      "          '\\n',\n",
      "          '\\n'\n",
      "          'CALL, TEXT, OR EMAIL MICHAEL FOR MORE INFORMATION OR TO SETUP '\n",
      "          'INSPECTION',\n",
      "          '\\n    '],\n",
      "  'name': ['1000 GALLON FUEL TRAILER'],\n",
      "  'post_id': 'post id: 7314075581',\n",
      "  'price': '$4,800',\n",
      "  'sub_cat': 'heavy equipment - by owner'}]\n"
     ]
    }
   ],
   "source": [
    "import pprint\n",
    "pprint.pprint(list(listings.aggregate([{\"$sample\":{\"size\":1}}])))"
   ]
  },
  {
   "cell_type": "code",
   "execution_count": 73,
   "id": "3be95351",
   "metadata": {},
   "outputs": [],
   "source": [
    "import pandas as pd"
   ]
  },
  {
   "cell_type": "code",
   "execution_count": 74,
   "id": "33347aab",
   "metadata": {},
   "outputs": [],
   "source": [
    "df = pd.DataFrame(list(listings.find()))"
   ]
  },
  {
   "cell_type": "code",
   "execution_count": 75,
   "id": "c68395b9",
   "metadata": {},
   "outputs": [
    {
     "data": {
      "text/html": [
       "<div>\n",
       "<style scoped>\n",
       "    .dataframe tbody tr th:only-of-type {\n",
       "        vertical-align: middle;\n",
       "    }\n",
       "\n",
       "    .dataframe tbody tr th {\n",
       "        vertical-align: top;\n",
       "    }\n",
       "\n",
       "    .dataframe thead th {\n",
       "        text-align: right;\n",
       "    }\n",
       "</style>\n",
       "<table border=\"1\" class=\"dataframe\">\n",
       "  <thead>\n",
       "    <tr style=\"text-align: right;\">\n",
       "      <th></th>\n",
       "      <th>_id</th>\n",
       "      <th>post_id</th>\n",
       "      <th>city</th>\n",
       "      <th>sub_cat</th>\n",
       "      <th>price</th>\n",
       "      <th>name</th>\n",
       "      <th>des</th>\n",
       "    </tr>\n",
       "  </thead>\n",
       "  <tbody>\n",
       "    <tr>\n",
       "      <th>0</th>\n",
       "      <td>60be8aa05f2c8929d17d4e56</td>\n",
       "      <td>post id: 7333177933</td>\n",
       "      <td>little rock</td>\n",
       "      <td>household items - by owner</td>\n",
       "      <td>$75</td>\n",
       "      <td>[Mini Refrigerator with freezer]</td>\n",
       "      <td>[\\n        , \\nMini Refrigerator with freezer ...</td>\n",
       "    </tr>\n",
       "    <tr>\n",
       "      <th>1</th>\n",
       "      <td>60be8aa15f2c8929d17d4e57</td>\n",
       "      <td>post id: 7332128348</td>\n",
       "      <td>auburn</td>\n",
       "      <td>cars &amp; trucks - by owner</td>\n",
       "      <td>$3,900</td>\n",
       "      <td>[JEEP COMPASS [2010]]</td>\n",
       "      <td>[\\n        , \\nRUNS AND DRIVES 191K MI AUTOMAT...</td>\n",
       "    </tr>\n",
       "    <tr>\n",
       "      <th>2</th>\n",
       "      <td>60be8aa15f2c8929d17d4e58</td>\n",
       "      <td>post id: 7329440520</td>\n",
       "      <td>northern WI</td>\n",
       "      <td>collectibles - by owner</td>\n",
       "      <td>$7</td>\n",
       "      <td>[Royal Copenhagen, Lillebaelts-Broen, blue and...</td>\n",
       "      <td>[\\n        , \\nPlate is about 3 1/4 in.    ]</td>\n",
       "    </tr>\n",
       "    <tr>\n",
       "      <th>3</th>\n",
       "      <td>60be8aa25f2c8929d17d4e59</td>\n",
       "      <td>post id: 7327604075</td>\n",
       "      <td>virgin islands</td>\n",
       "      <td>cars &amp; trucks - by owner</td>\n",
       "      <td>$55</td>\n",
       "      <td>[Car rental]</td>\n",
       "      <td>[\\n        , \\nCar for rent only 55 per day gi...</td>\n",
       "    </tr>\n",
       "    <tr>\n",
       "      <th>4</th>\n",
       "      <td>60be8aa25f2c8929d17d4e5a</td>\n",
       "      <td>post id: 7329433284</td>\n",
       "      <td>northern WI</td>\n",
       "      <td>collectibles - by owner</td>\n",
       "      <td>$8</td>\n",
       "      <td>[Royal copenhagen, Western Trail, 5 1/4 in. pl...</td>\n",
       "      <td>[\\n        , \\nOBO, Like new condition    ]</td>\n",
       "    </tr>\n",
       "  </tbody>\n",
       "</table>\n",
       "</div>"
      ],
      "text/plain": [
       "                        _id              post_id            city  \\\n",
       "0  60be8aa05f2c8929d17d4e56  post id: 7333177933     little rock   \n",
       "1  60be8aa15f2c8929d17d4e57  post id: 7332128348          auburn   \n",
       "2  60be8aa15f2c8929d17d4e58  post id: 7329440520     northern WI   \n",
       "3  60be8aa25f2c8929d17d4e59  post id: 7327604075  virgin islands   \n",
       "4  60be8aa25f2c8929d17d4e5a  post id: 7329433284     northern WI   \n",
       "\n",
       "                      sub_cat   price  \\\n",
       "0  household items - by owner     $75   \n",
       "1    cars & trucks - by owner  $3,900   \n",
       "2     collectibles - by owner      $7   \n",
       "3    cars & trucks - by owner     $55   \n",
       "4     collectibles - by owner      $8   \n",
       "\n",
       "                                                name  \\\n",
       "0                   [Mini Refrigerator with freezer]   \n",
       "1                              [JEEP COMPASS [2010]]   \n",
       "2  [Royal Copenhagen, Lillebaelts-Broen, blue and...   \n",
       "3                                       [Car rental]   \n",
       "4  [Royal copenhagen, Western Trail, 5 1/4 in. pl...   \n",
       "\n",
       "                                                 des  \n",
       "0  [\\n        , \\nMini Refrigerator with freezer ...  \n",
       "1  [\\n        , \\nRUNS AND DRIVES 191K MI AUTOMAT...  \n",
       "2       [\\n        , \\nPlate is about 3 1/4 in.    ]  \n",
       "3  [\\n        , \\nCar for rent only 55 per day gi...  \n",
       "4        [\\n        , \\nOBO, Like new condition    ]  "
      ]
     },
     "execution_count": 75,
     "metadata": {},
     "output_type": "execute_result"
    }
   ],
   "source": [
    "df.head(5)"
   ]
  },
  {
   "cell_type": "code",
   "execution_count": 77,
   "id": "b1a2edc6",
   "metadata": {},
   "outputs": [],
   "source": [
    "#df['price'] = df['price'].str.replace(',','')\n",
    "#df['price'] = df['price'].str.replace('$','')\n",
    "#df['price'] = df['price'].apply(pd.to_numeric)\n",
    "#(df['price'] == 0).sum()\n",
    "#df['price'].isna().sum()\n",
    "pd.set_option('display.max_rows', None)\n",
    "#df.groupby('sub_cat')['price'].mean()\n",
    "\n",
    "auburn = df[df['city'] == 'auburn']"
   ]
  },
  {
   "cell_type": "code",
   "execution_count": 78,
   "id": "b48e4745",
   "metadata": {},
   "outputs": [
    {
     "data": {
      "text/html": [
       "<div>\n",
       "<style scoped>\n",
       "    .dataframe tbody tr th:only-of-type {\n",
       "        vertical-align: middle;\n",
       "    }\n",
       "\n",
       "    .dataframe tbody tr th {\n",
       "        vertical-align: top;\n",
       "    }\n",
       "\n",
       "    .dataframe thead th {\n",
       "        text-align: right;\n",
       "    }\n",
       "</style>\n",
       "<table border=\"1\" class=\"dataframe\">\n",
       "  <thead>\n",
       "    <tr style=\"text-align: right;\">\n",
       "      <th></th>\n",
       "      <th>_id</th>\n",
       "      <th>post_id</th>\n",
       "      <th>city</th>\n",
       "      <th>sub_cat</th>\n",
       "      <th>price</th>\n",
       "      <th>name</th>\n",
       "      <th>des</th>\n",
       "    </tr>\n",
       "  </thead>\n",
       "  <tbody>\n",
       "    <tr>\n",
       "      <th>1</th>\n",
       "      <td>60be8aa15f2c8929d17d4e57</td>\n",
       "      <td>post id: 7332128348</td>\n",
       "      <td>auburn</td>\n",
       "      <td>cars &amp; trucks - by owner</td>\n",
       "      <td>$3,900</td>\n",
       "      <td>[JEEP COMPASS [2010]]</td>\n",
       "      <td>[\\n        , \\nRUNS AND DRIVES 191K MI AUTOMAT...</td>\n",
       "    </tr>\n",
       "    <tr>\n",
       "      <th>26995</th>\n",
       "      <td>60be96045f2c8929d17db7c9</td>\n",
       "      <td>post id: 7332142343</td>\n",
       "      <td>auburn</td>\n",
       "      <td>cars &amp; trucks - by dealer</td>\n",
       "      <td>$33,999</td>\n",
       "      <td>[2018 Mercedes-Benz CClass C Class C-Class C 3...</td>\n",
       "      <td>[\\n        , \\n\\n        ,  - ,  - 4D ,  - 4 C...</td>\n",
       "    </tr>\n",
       "    <tr>\n",
       "      <th>27025</th>\n",
       "      <td>60be960a5f2c8929d17db7e7</td>\n",
       "      <td>post id: 7332166062</td>\n",
       "      <td>auburn</td>\n",
       "      <td>cars &amp; trucks - by dealer</td>\n",
       "      <td>$24,499</td>\n",
       "      <td>[2018 Mercedes-Benz GLA GLA 250 4MATIC 4 MATIC...</td>\n",
       "      <td>[\\n        , \\n\\n        ,  - ,  - 4D ,  - 4 C...</td>\n",
       "    </tr>\n",
       "    <tr>\n",
       "      <th>27057</th>\n",
       "      <td>60be960d5f2c8929d17db807</td>\n",
       "      <td>post id: 7332194777</td>\n",
       "      <td>auburn</td>\n",
       "      <td>rvs - by owner</td>\n",
       "      <td>$12,000</td>\n",
       "      <td>[2014 Coachman Clipper]</td>\n",
       "      <td>[\\n        , \\nChristine sent May 31 at 3:38 P...</td>\n",
       "    </tr>\n",
       "    <tr>\n",
       "      <th>27073</th>\n",
       "      <td>60be960f5f2c8929d17db817</td>\n",
       "      <td>post id: 7332193107</td>\n",
       "      <td>auburn</td>\n",
       "      <td>auto parts - by owner</td>\n",
       "      <td>$280</td>\n",
       "      <td>[2002 Ford Econoline Rear Seats]</td>\n",
       "      <td>[\\n        , \\nUsed rear seats in decent condi...</td>\n",
       "    </tr>\n",
       "  </tbody>\n",
       "</table>\n",
       "</div>"
      ],
      "text/plain": [
       "                            _id              post_id    city  \\\n",
       "1      60be8aa15f2c8929d17d4e57  post id: 7332128348  auburn   \n",
       "26995  60be96045f2c8929d17db7c9  post id: 7332142343  auburn   \n",
       "27025  60be960a5f2c8929d17db7e7  post id: 7332166062  auburn   \n",
       "27057  60be960d5f2c8929d17db807  post id: 7332194777  auburn   \n",
       "27073  60be960f5f2c8929d17db817  post id: 7332193107  auburn   \n",
       "\n",
       "                         sub_cat    price  \\\n",
       "1       cars & trucks - by owner   $3,900   \n",
       "26995  cars & trucks - by dealer  $33,999   \n",
       "27025  cars & trucks - by dealer  $24,499   \n",
       "27057             rvs - by owner  $12,000   \n",
       "27073      auto parts - by owner     $280   \n",
       "\n",
       "                                                    name  \\\n",
       "1                                  [JEEP COMPASS [2010]]   \n",
       "26995  [2018 Mercedes-Benz CClass C Class C-Class C 3...   \n",
       "27025  [2018 Mercedes-Benz GLA GLA 250 4MATIC 4 MATIC...   \n",
       "27057                            [2014 Coachman Clipper]   \n",
       "27073                   [2002 Ford Econoline Rear Seats]   \n",
       "\n",
       "                                                     des  \n",
       "1      [\\n        , \\nRUNS AND DRIVES 191K MI AUTOMAT...  \n",
       "26995  [\\n        , \\n\\n        ,  - ,  - 4D ,  - 4 C...  \n",
       "27025  [\\n        , \\n\\n        ,  - ,  - 4D ,  - 4 C...  \n",
       "27057  [\\n        , \\nChristine sent May 31 at 3:38 P...  \n",
       "27073  [\\n        , \\nUsed rear seats in decent condi...  "
      ]
     },
     "execution_count": 78,
     "metadata": {},
     "output_type": "execute_result"
    }
   ],
   "source": [
    "auburn.head(5)"
   ]
  },
  {
   "cell_type": "code",
   "execution_count": 85,
   "id": "84a94b3d",
   "metadata": {},
   "outputs": [
    {
     "data": {
      "text/plain": [
       "33"
      ]
     },
     "execution_count": 85,
     "metadata": {},
     "output_type": "execute_result"
    }
   ],
   "source": [
    "len(df['city'].unique())"
   ]
  },
  {
   "cell_type": "code",
   "execution_count": null,
   "id": "543480b1",
   "metadata": {},
   "outputs": [],
   "source": []
  }
 ],
 "metadata": {
  "kernelspec": {
   "display_name": "Python 3",
   "language": "python",
   "name": "python3"
  },
  "language_info": {
   "codemirror_mode": {
    "name": "ipython",
    "version": 3
   },
   "file_extension": ".py",
   "mimetype": "text/x-python",
   "name": "python",
   "nbconvert_exporter": "python",
   "pygments_lexer": "ipython3",
   "version": "3.8.10"
  }
 },
 "nbformat": 4,
 "nbformat_minor": 5
}
