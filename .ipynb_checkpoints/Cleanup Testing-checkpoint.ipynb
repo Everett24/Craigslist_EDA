{
 "cells": [
  {
   "cell_type": "code",
   "execution_count": 1,
   "id": "53042744",
   "metadata": {},
   "outputs": [],
   "source": [
    "# write functions to clean data entries / test progress of scrape"
   ]
  },
  {
   "cell_type": "code",
   "execution_count": 2,
   "id": "096a4006",
   "metadata": {},
   "outputs": [],
   "source": [
    "from pymongo import MongoClient #MongoDB\n",
    "client = MongoClient('localhost',27017)\n",
    "craigslist = client['craigslist']\n",
    "listings = craigslist['listings']"
   ]
  },
  {
   "cell_type": "code",
   "execution_count": 124,
   "id": "04ff9e21",
   "metadata": {},
   "outputs": [
    {
     "data": {
      "text/plain": [
       "24237"
      ]
     },
     "execution_count": 124,
     "metadata": {},
     "output_type": "execute_result"
    }
   ],
   "source": [
    "listings.estimated_document_count()\n"
   ]
  },
  {
   "cell_type": "code",
   "execution_count": 126,
   "id": "0922a911",
   "metadata": {},
   "outputs": [
    {
     "name": "stdout",
     "output_type": "stream",
     "text": [
      "[{'_id': ObjectId('60be91835f2c8929d17d8da5'),\n",
      "  'city': 'fort smith',\n",
      "  'des': ['\\n        ',\n",
      "          '\\n'\n",
      "          'Old Zenith Cabinet with Stereo and Record Player. Stereo works but '\n",
      "          'Record Player does NOT work. Could be a great project for the '\n",
      "          'price!    '],\n",
      "  'name': ['Zenith Stereo Cabinet'],\n",
      "  'post_id': 'post id: 7321351128',\n",
      "  'price': '$40',\n",
      "  'sub_cat': 'antiques - by owner'}]\n"
     ]
    }
   ],
   "source": [
    "import pprint\n",
    "pprint.pprint(list(listings.aggregate([{\"$sample\":{\"size\":1}}])))"
   ]
  },
  {
   "cell_type": "code",
   "execution_count": null,
   "id": "e6dbb163",
   "metadata": {},
   "outputs": [],
   "source": []
  },
  {
   "cell_type": "code",
   "execution_count": null,
   "id": "59ec7d09",
   "metadata": {},
   "outputs": [],
   "source": []
  }
 ],
 "metadata": {
  "kernelspec": {
   "display_name": "Python 3",
   "language": "python",
   "name": "python3"
  },
  "language_info": {
   "codemirror_mode": {
    "name": "ipython",
    "version": 3
   },
   "file_extension": ".py",
   "mimetype": "text/x-python",
   "name": "python",
   "nbconvert_exporter": "python",
   "pygments_lexer": "ipython3",
   "version": "3.8.10"
  }
 },
 "nbformat": 4,
 "nbformat_minor": 5
}
